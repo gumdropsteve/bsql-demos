{
 "cells": [
  {
   "cell_type": "markdown",
   "metadata": {},
   "source": [
    "### cuML\n",
    "\n",
    "cuML is a suite of libraries that implement machine learning algorithms and mathematical primitives functions that share compatible APIs with other RAPIDS projects.\n",
    "\n",
    "cuML enables data scientists, researchers, and software engineers to run traditional tabular ML tasks on GPUs without going into the details of CUDA programming. In most cases, cuML's Python API matches the API from scikit-learn.\n",
    "\n",
    "For large datasets, these GPU-based implementations can complete 10-50x faster than their CPU equivalents. For details on performance, see the cuML Benchmarks Notebook.\n",
    "    \n",
    "[GitHub](https://github.com/rapidsai/cuml) | [Welcome Notebook](../welcome.ipynb#cuML---RAPIDS-Machine-Learning-Library)"
   ]
  },
  {
   "cell_type": "code",
   "execution_count": 1,
   "metadata": {},
   "outputs": [
    {
     "name": "stdout",
     "output_type": "stream",
     "text": [
      "BlazingContext ready\n"
     ]
    }
   ],
   "source": [
    "from blazingsql import BlazingContext\n",
    "\n",
    "# connect to BlazingSQL w/ BlazingContext API\n",
    "bc = BlazingContext(pool=False)"
   ]
  },
  {
   "cell_type": "code",
   "execution_count": 9,
   "metadata": {},
   "outputs": [
    {
     "name": "stdout",
     "output_type": "stream",
     "text": [
      "data_path == '/jupyterhub-homes/winston@blazingdb.com/blazingsql_notebooks/data/sample_taxi.csv'\n",
      "\n"
     ]
    },
    {
     "data": {
      "text/plain": [
       "<pyblazing.apiv2.context.BlazingTable at 0x7fe5000e9ed0>"
      ]
     },
     "execution_count": 9,
     "metadata": {},
     "output_type": "execute_result"
    }
   ],
   "source": [
    "import os\n",
    "\n",
    "# BlazingContext requires full data path\n",
    "data_path = f'{os.getcwd().split(\"/intro_notebooks\")[0]}/data/sample_taxi.csv'\n",
    "\n",
    "# what's the data's path?\n",
    "print(f\"data_path == '{data_path}'\\n\")\n",
    "\n",
    "# create a BlazingSQL table from any file w/ .create_table(table_name, file_path)\n",
    "bc.create_table('taxi', data_path, header=0)"
   ]
  },
  {
   "cell_type": "code",
   "execution_count": null,
   "metadata": {},
   "outputs": [],
   "source": [
    "taxi_columns = [col for col in bc.sql('select * from taxi').columns if col not in ['fare_amount', 'total_amount']]\n",
    "\n",
    "taxi_columns"
   ]
  },
  {
   "cell_type": "code",
   "execution_count": null,
   "metadata": {},
   "outputs": [],
   "source": [
    "from cuml.preprocessing.model_selection import train_test_split\n",
    "\n",
    "# split data into training & testing sets (70:30)\n",
    "X_train, X_test, y_train, y_test = train_test_split(bc.sql('SELECT ', y, train_size = 0.7))"
   ]
  },
  {
   "cell_type": "code",
   "execution_count": null,
   "metadata": {},
   "outputs": [],
   "source": [
    "# convert cuDF DataFrame to pandas to identify feature correlation \n",
    "corr = bc.sql('select * from taxi').to_pandas().corr()\n",
    "\n",
    "# visualize correlations\n",
    "corr.style.background_gradient(cmap='coolwarm')"
   ]
  }
 ],
 "metadata": {
  "kernelspec": {
   "display_name": "RAPIDS Stable",
   "language": "python",
   "name": "rapids-stable"
  },
  "language_info": {
   "codemirror_mode": {
    "name": "ipython",
    "version": 3
   },
   "file_extension": ".py",
   "mimetype": "text/x-python",
   "name": "python",
   "nbconvert_exporter": "python",
   "pygments_lexer": "ipython3",
   "version": "3.7.6"
  }
 },
 "nbformat": 4,
 "nbformat_minor": 4
}
