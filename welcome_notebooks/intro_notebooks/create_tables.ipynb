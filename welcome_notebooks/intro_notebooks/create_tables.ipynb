{
 "cells": [
  {
   "cell_type": "markdown",
   "metadata": {},
   "source": [
    "## Create BlazingSQL tables\n",
    "\n",
    "[Docs](https://docs.blazingdb.com/docs/text-files) | [Welcome notebook](../welcome.ipynb#BlazingContext-API)"
   ]
  },
  {
   "cell_type": "code",
   "execution_count": 1,
   "metadata": {},
   "outputs": [
    {
     "name": "stdout",
     "output_type": "stream",
     "text": [
      "BlazingContext ready\n"
     ]
    }
   ],
   "source": [
    "from blazingsql import BlazingContext\n",
    "# start up BlazingSQL\n",
    "bc = BlazingContext(pool=False)"
   ]
  },
  {
   "cell_type": "markdown",
   "metadata": {},
   "source": [
    "BlazingSQL requires the full path to your data to create tables. The next cell will identify the path to the data directory for you."
   ]
  },
  {
   "cell_type": "code",
   "execution_count": null,
   "metadata": {},
   "outputs": [],
   "source": [
    "import os\n",
    "# tag path to data directory\n",
    "data_dir = f\"{os.getcwd().split('/intro_notebooks')[0]}/data\""
   ]
  },
  {
   "cell_type": "markdown",
   "metadata": {},
   "source": [
    "#### Text Files\n",
    "\n",
    "You can use BlazingSQL to SQL query plain text files (flat files), such as:\n",
    "\n",
    "- CSV files (comma-separated values)\n",
    "- TSV files (tab-separated values)\n",
    "- PSV files (pipe-separated values)\n",
    "\n",
    "BlazingSQL relies on cuIO when reading files, which means we can leverage numerous features, such as inferring column names through a header row and data types through a sampling method. \n",
    "\n",
    "[Docs](https://docs.blazingdb.com/docs/text-files)"
   ]
  },
  {
   "cell_type": "code",
   "execution_count": 2,
   "metadata": {},
   "outputs": [
    {
     "data": {
      "text/plain": [
       "<pyblazing.apiv2.context.BlazingTable at 0x7fb88a16f0d0>"
      ]
     },
     "execution_count": 2,
     "metadata": {},
     "output_type": "execute_result"
    }
   ],
   "source": [
    "# CSV\n",
    "bc.create_table('iris_csv', f'{data_dir}/iris.csv', header=0)"
   ]
  },
  {
   "cell_type": "markdown",
   "metadata": {},
   "source": [
    "#### JSON Files\n",
    "\n",
    "[Docs](https://docs.blazingdb.com/docs/json)"
   ]
  },
  {
   "cell_type": "code",
   "execution_count": null,
   "metadata": {},
   "outputs": [],
   "source": [
    "# create table from JSON file\n",
    "bc.create_table('iris_csv', f'{data_dir}/iris.csv')"
   ]
  },
  {
   "cell_type": "markdown",
   "metadata": {},
   "source": [
    "#### Apache Parquet\n",
    "\n",
    "[Docs](https://docs.blazingdb.com/docs/apache-parquet)"
   ]
  },
  {
   "cell_type": "code",
   "execution_count": null,
   "metadata": {},
   "outputs": [],
   "source": [
    "# create table from parquet file\n",
    "bc.create_table('iris_csv', f'{data_dir}/iris.csv')"
   ]
  },
  {
   "cell_type": "markdown",
   "metadata": {},
   "source": [
    "#### Apache ORC\n",
    "\n",
    "[Docs](https://docs.blazingdb.com/docs/apache-orc)"
   ]
  },
  {
   "cell_type": "code",
   "execution_count": null,
   "metadata": {},
   "outputs": [],
   "source": [
    "# create table from ORC file\n",
    "bc.create_table('iris_csv', f'{data_dir}/iris.csv')"
   ]
  },
  {
   "cell_type": "markdown",
   "metadata": {},
   "source": [
    "#### Apache Hive\n",
    "\n",
    "[Docs](https://docs.blazingdb.com/docs/apache-hive)"
   ]
  },
  {
   "cell_type": "code",
   "execution_count": null,
   "metadata": {},
   "outputs": [],
   "source": [
    "from pyhive import hive\n",
    "\n",
    "# connect to Hive and obtain a cursor\n",
    "cursor = hive.connect('your_hive_ip_address').cursor()\n",
    "\n",
    "# give create_table the Hive cursor\n",
    "# the table name must match the same table name as in Hive\n",
    "bc.create_table(\"hive_table_name\", cursor)\n",
    "\n",
    "# query table (result = cuDF DataFrame)\n",
    "result = bc.sql(\"select * from hive_table_name\")\n",
    "\n",
    "# create table from Hive table\n",
    "bc.create_table('iris_csv', f'{data_dir}/iris.csv')"
   ]
  },
  {
   "cell_type": "markdown",
   "metadata": {},
   "source": [
    "#### cuDF or pandas DataFrame\n",
    "\n",
    "[Docs](https://docs.blazingdb.com/docs/gpu-dataframe-gdf)"
   ]
  },
  {
   "cell_type": "code",
   "execution_count": null,
   "metadata": {},
   "outputs": [],
   "source": [
    "import cudf\n",
    "\n",
    "# create cuDF DataFrame\n",
    "gdf = cudf.read_csv()\n",
    "\n",
    "# create table from cuDF DataFrame\n",
    "bc.create_table('cudf_iris')"
   ]
  },
  {
   "cell_type": "code",
   "execution_count": null,
   "metadata": {},
   "outputs": [],
   "source": [
    "import pandas\n",
    "\n",
    "# create pandas DataFrame\n",
    "df = pd.read_csv\n",
    "\n",
    "# create table from pandas DataFrame\n",
    "bc.create_table('pandas_iris')"
   ]
  }
 ],
 "metadata": {
  "kernelspec": {
   "display_name": "RAPIDS Nightly",
   "language": "python",
   "name": "python3"
  },
  "language_info": {
   "codemirror_mode": {
    "name": "ipython",
    "version": 3
   },
   "file_extension": ".py",
   "mimetype": "text/x-python",
   "name": "python",
   "nbconvert_exporter": "python",
   "pygments_lexer": "ipython3",
   "version": "3.7.6"
  }
 },
 "nbformat": 4,
 "nbformat_minor": 4
}
