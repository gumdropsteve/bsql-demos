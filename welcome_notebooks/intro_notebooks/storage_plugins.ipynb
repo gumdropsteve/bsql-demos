{
 "cells": [
  {
   "cell_type": "markdown",
   "metadata": {},
   "source": [
    "### BlazingSQL Storage Plugins \n",
    "\n",
    "We think you should let data rest wherever it likes. Don't worry about synching, directly query files wherever they reside.\n",
    "\n",
    "With the BlazingSQL Filesystem API, you can register and connect to multiple storage solutions. \n",
    "\n",
    "- [AWS](https://docs.blazingdb.com/docs/s3) \n",
    "- [Google Storage](https://docs.blazingdb.com/docs/google-cloud-storage)\n",
    "- [HDFS](https://docs.blazingdb.com/docs/hdfs)\n",
    "\n",
    "Once a filesystem is registered you can reference the user-defined file path when creating a new table off of a file.\n",
    "    \n",
    "[Docs](https://docs.blazingdb.com/docs/connecting-data-sources) | [Welcome notebook](../welcome.ipynb#Storage-Plugins---Scale-Your-Data)"
   ]
  },
  {
   "cell_type": "code",
   "execution_count": null,
   "metadata": {},
   "outputs": [],
   "source": []
  }
 ],
 "metadata": {
  "kernelspec": {
   "display_name": "Python 3",
   "language": "python",
   "name": "python3"
  },
  "language_info": {
   "codemirror_mode": {
    "name": "ipython",
    "version": 3
   },
   "file_extension": ".py",
   "mimetype": "text/x-python",
   "name": "python",
   "nbconvert_exporter": "python",
   "pygments_lexer": "ipython3",
   "version": "3.6.9"
  }
 },
 "nbformat": 4,
 "nbformat_minor": 4
}
